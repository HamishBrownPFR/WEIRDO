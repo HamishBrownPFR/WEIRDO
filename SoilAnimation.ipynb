{
 "cells": [
  {
   "cell_type": "markdown",
   "metadata": {},
   "source": [
    "### The script in the cell below will create an animated 3d graph of soil water content in pylab.  \n",
    "\n",
    "However, Jupyter has a static connection with the code and the dispaly so it won't animate in here.\n",
    "\n",
    "To get it to animate include the line:\n",
    "%%writefile C:\\Anaconda\\Lib\\SoilAnimation.py\n",
    "at the top of this cell.  This will create a file called SoilAnimation.py\n",
    "then go to the ipython interface and type:\n",
    "import SoilAnimation.py\n",
    "\n",
    "and it will display the animated graph in a Pylab window"
   ]
  },
  {
   "cell_type": "code",
   "execution_count": 117,
   "metadata": {
    "collapsed": false
   },
   "outputs": [
    {
     "name": "stdout",
     "output_type": "stream",
     "text": [
      "Writing C:\\Anaconda\\Lib\\SoilAnimation.py\n"
     ]
    }
   ],
   "source": [
    "#%%writefile C:\\Anaconda\\Lib\\SoilAnimation.py\n",
    "import sqlite3\n",
    "import pandas as pd\n",
    "from mpl_toolkits.mplot3d import axes3d\n",
    "import numpy as np\n",
    "import matplotlib.pyplot as plt\n",
    "import matplotlib.animation as animation\n",
    "\n",
    "con = sqlite3.connect('C:\\ApsimX\\Prototypes\\MultiPoreWater/ReportDetail.db')\n",
    "APSIMData = pd.read_sql(\"Select * from Report,Simulations where Report.SimulationID = Simulations.ID\",con, index_col = ['TimeStep','Date','Process','Hour','Layer'])\n",
    "APSIMData = APSIMData.drop(labels = ['SimulationID', 'ZoneName','ID'],axis=1)\n",
    "PoreWater = APSIMData.ix[:,[X for X in APSIMData.columns if 'PW' in X]]\n",
    "LayerNum = 7\n",
    "PoreComNum = 7\n",
    "\n",
    "LayerIndices = []\n",
    "for i in range(1,LayerNum +1):\n",
    "    LayerIndices.append('L'+str(i))\n",
    "    \n",
    "CompartmentIndices = []\n",
    "for i in range(1,PoreComNum +1):\n",
    "    CompartmentIndices.append('C'+str(i))    \n",
    "\n",
    "PoreColumnIndex = pd.MultiIndex.from_product([LayerIndices,CompartmentIndices],names=['Layer','PoreComponent'])\n",
    "PoreWater.columns = PoreColumnIndex\n",
    "\n",
    "def WetnessData(i):\n",
    "    Wetness = []\n",
    "    for l in range(1,LayerNum+1):\n",
    "        Wetness.append(list(PoreWater.ix[i+1,'L'+str(l)].values[0]))\n",
    "    return np.array(Wetness)\n",
    "\n",
    "fig = plt.figure()\n",
    "ax = axes3d.Axes3D(fig)\n",
    "\n",
    "xs = range(1,LayerNum+1)\n",
    "ys = range(1,PoreComNum+1)\n",
    "X, Y = np.meshgrid(xs, ys)\n",
    "Z = WetnessData(1)\n",
    "wframe = ax.plot_wireframe(X, Y, Z, rstride=2, cstride=2)\n",
    "ax.set_zlim(-1,1)\n",
    "\n",
    "def update(i, ax, fig):\n",
    "    ax.cla()\n",
    "    Z = WetnessData(i)\n",
    "    wframe = ax.plot_wireframe(X, Y, Z, rstride=2, cstride=2)\n",
    "    ax.set_zlim(-1,1)\n",
    "    return wframe,\n",
    "\n",
    "ani = animation.FuncAnimation(fig, update, \n",
    "        frames=xrange(1000), \n",
    "        fargs=(ax, fig), interval=10)\n",
    "plt.show()"
   ]
  }
 ],
 "metadata": {
  "kernelspec": {
   "display_name": "Python 2",
   "language": "python",
   "name": "python2"
  },
  "language_info": {
   "codemirror_mode": {
    "name": "ipython",
    "version": 2
   },
   "file_extension": ".py",
   "mimetype": "text/x-python",
   "name": "python",
   "nbconvert_exporter": "python",
   "pygments_lexer": "ipython2",
   "version": "2.7.11"
  }
 },
 "nbformat": 4,
 "nbformat_minor": 0
}
