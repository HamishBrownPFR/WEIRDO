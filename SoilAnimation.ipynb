{
 "cells": [
  {
   "cell_type": "markdown",
   "metadata": {},
   "source": [
    "## Bring in the Data from APSIM and prepare for graphing"
   ]
  },
  {
   "cell_type": "code",
   "execution_count": 120,
   "metadata": {
    "collapsed": false
   },
   "outputs": [],
   "source": [
    "import sqlite3\n",
    "import pandas as pd\n",
    "from mpl_toolkits.mplot3d import axes3d\n",
    "import numpy as np\n",
    "import matplotlib.pyplot as plt\n",
    "import matplotlib.animation as animation\n",
    "from matplotlib import cm\n",
    "from datetime import datetime\n",
    "from datetime import datetime, timedelta\n",
    "\n",
    "con = sqlite3.connect('C:\\ApsimX\\Prototypes\\MultiPoreWater/ReportDetail.db')\n",
    "APSIMData = pd.read_sql(\"Select * from Report,Simulations where Report.SimulationID = Simulations.ID\",con, index_col = ['TimeStep'])\n",
    "APSIMData = APSIMData.drop(labels = ['SimulationID', 'ZoneName','ID'],axis=1)\n",
    "PoreWater = APSIMData.ix[:,[X for X in APSIMData.columns if 'PW' in X]]\n",
    "ProfileData = pd.read_sql(\"Select * from Initial,Simulations where Initial.SimulationID = Simulations.ID\",con)\n",
    "Thickness = ProfileData.ix[:,[X for X in ProfileData.columns if 'Thick' in X]]\n",
    "Timing = APSIMData.ix[:,0:3]\n",
    "Timing.ix[:,'DateTime'] = [datetime.strptime(Timing.ix[X,0], '%Y-%m-%d %H:%M:%S') for X in Timing.index]\n",
    "Timing.ix[:,'Date0'] = [Timing.ix[X,'DateTime'] - timedelta(hours=12) for X in Timing.index]\n",
    "Timing.ix[:,'DateTime'] = [Timing.ix[X,'Date0'] + timedelta(hours=int(Timing.ix[X,'Hour'])) for X in Timing.index]\n",
    "Timing.ix[:,'Now'] = [datetime.strftime(Timing.ix[X,'DateTime'],'%H:%M:%S %d-%b-%Y') for X in Timing.index]\n",
    "\n",
    "Depth = []\n",
    "depth = 0\n",
    "for l in Thickness.columns:\n",
    "    Depth.append(depth)\n",
    "    depth += Thickness.ix[:,l][0]\n",
    "\n",
    "LayerNum = 7\n",
    "PoreComNum = 7\n",
    "\n",
    "LayerIndices = []\n",
    "for i in range(1,LayerNum +1):\n",
    "    LayerIndices.append('L'+str(i))\n",
    "    \n",
    "CompartmentIndices = []\n",
    "for i in range(1,PoreComNum +1):\n",
    "    CompartmentIndices.append('C'+str(i))    \n",
    "\n",
    "PoreColumnIndex = pd.MultiIndex.from_product([LayerIndices,CompartmentIndices],names=['Layer','PoreComponent'])\n",
    "PoreWater.columns = PoreColumnIndex\n",
    "\n",
    "def WetnessData(i):\n",
    "    Wetness = []\n",
    "    for l in range(1,LayerNum+1):\n",
    "        Wetness.append(list(PoreWater.ix[i+1,'L'+str(l)].values))\n",
    "    return np.array(Wetness)"
   ]
  },
  {
   "cell_type": "markdown",
   "metadata": {},
   "source": [
    "## Make an animated heat map of the water content in the soil"
   ]
  },
  {
   "cell_type": "code",
   "execution_count": 129,
   "metadata": {
    "collapsed": false
   },
   "outputs": [],
   "source": [
    "fig = plt.figure(figsize=(10,12))\n",
    "ax1=plt.subplot2grid((6,1),(0,0),rowspan=1,xticks=[],yticks=[])\n",
    "ax2=plt.subplot2grid((6,1),(1,0),rowspan=5,\n",
    "                     ylabel='Depth (mm)',xlabel='Large --> Small pores')\n",
    "ax2.invert_yaxis()\n",
    "ax2.tick_params(labelsize=15)\n",
    "ax2.xaxis.label.set_fontsize(30)\n",
    "ax2.yaxis.label.set_fontsize(30)\n",
    "\n",
    "pores = range(1,PoreComNum+1)\n",
    "layers = Depth\n",
    "Pores, Layers = np.meshgrid(pores, layers)\n",
    "\n",
    "ims = []\n",
    "for i in range(150):\n",
    "    plt1 = ax1.text(0.1,0.5,Timing.ix[i+1,'Now'],fontsize=40)\n",
    "    plt2 = ax2.pcolor(pores, layers, WetnessData(i), cmap=cm.jet_r, norm=plt.Normalize(0, 1))\n",
    "    ims.append([plt1,plt2])\n",
    "im_ani = animation.ArtistAnimation(fig, ims, interval=20, repeat_delay=1000,\n",
    "                                   blit=True)\n",
    "plt.show()"
   ]
  },
  {
   "cell_type": "markdown",
   "metadata": {},
   "source": [
    "## Graphs below here work, just not very well"
   ]
  },
  {
   "cell_type": "code",
   "execution_count": 222,
   "metadata": {
    "collapsed": false
   },
   "outputs": [],
   "source": [
    "fig = plt.figure()\n",
    "ax = axes3d.Axes3D(fig)\n",
    "\n",
    "pores = range(1,PoreComNum+1)\n",
    "layers = Depth\n",
    "Pores, Layers = np.meshgrid(pores, layers)\n",
    "Wetness = WetnessData(1)\n",
    "wframe = ax.plot_wireframe(Layers,Pores, Wetness)\n",
    "ax.set_zlim(0,1)\n",
    "\n",
    "def update(i, ax, fig):\n",
    "    ax.cla()\n",
    "    Wetness = WetnessData(i)\n",
    "    wframe = ax.plot_wireframe(Layers, Pores, Wetness)\n",
    "    ax.set_zlim(0,1)\n",
    "    ax.set_xlabel('Profile Depth (mm)')\n",
    "    ax.set_ylabel('L pores --> S pores')\n",
    "    ax.set_zlabel('Relative Water Content')\n",
    "    return wframe,\n",
    "\n",
    "ani = animation.FuncAnimation(fig, update, \n",
    "       frames=xrange(PoreWater.index.size), \n",
    "       fargs=(ax, fig), interval=0.001)\n",
    "plt.show()"
   ]
  },
  {
   "cell_type": "code",
   "execution_count": 8,
   "metadata": {
    "collapsed": false
   },
   "outputs": [],
   "source": [
    "fig = plt.figure()\n",
    "ax = fig.gca(projection='3d')\n",
    "\n",
    "def MakeFrame(i, ax, fig):\n",
    "    ax.cla()\n",
    "    Wetness = WetnessData(i)\n",
    "    surface = ax.plot_surface(Layers, Pores, Wetness, cstride=1, rstride=1, cmap=cm.jet, antialiased=False)\n",
    "    ax.set_zlim(0,1)\n",
    "    ax.set_xlabel('Profile Depth (mm)')\n",
    "    ax.set_ylabel('L pores --> S pores')\n",
    "    ax.set_zlabel('Relative Water Content')\n",
    "    ax.text(0,0,1.5,Timing.ix[i+1,'Now'])\n",
    "    return surface,\n",
    "\n",
    "pores = range(1,PoreComNum+1)\n",
    "layers = Depth\n",
    "Pores, Layers = np.meshgrid(pores, layers)\n",
    "\n",
    "MakeFrame(1,ax,fig)\n",
    "\n",
    "ani = animation.FuncAnimation(fig, MakeFrame, \n",
    "        frames=xrange(PoreWater.index.size), \n",
    "        fargs=(ax, fig), interval=1)\n",
    "plt.show()"
   ]
  },
  {
   "cell_type": "code",
   "execution_count": 19,
   "metadata": {
    "collapsed": true
   },
   "outputs": [],
   "source": [
    "fig = plt.figure()\n",
    "ax = fig.gca(projection='3d')\n",
    "\n",
    "pores = range(1,PoreComNum+1)\n",
    "layers = Depth\n",
    "Pores, Layers = np.meshgrid(pores, layers)\n",
    "\n",
    "def MakeFrame(i, ax, fig):\n",
    "    Wetness = WetnessData(i)\n",
    "    surface = ax.plot_surface(Layers, Pores, Wetness, cstride=1, rstride=1, cmap=cm.jet, antialiased=False)\n",
    "    ax.set_zlim(0,1)\n",
    "    ax.set_xlabel('Profile Depth (mm)')\n",
    "    ax.set_ylabel('L pores --> S pores')\n",
    "    ax.set_zlabel('Relative Water Content')\n",
    "    ax.text(0,0,1.5,Timing.ix[i+1,'Now'])\n",
    "    return surface,\n",
    "\n",
    "Frames = []\n",
    "for i in range(1000):\n",
    "    Frames.append(MakeFrame(i,ax,fig))"
   ]
  },
  {
   "cell_type": "code",
   "execution_count": 21,
   "metadata": {
    "collapsed": false
   },
   "outputs": [],
   "source": [
    "ani = animation.ArtistAnimation(fig, Frames, interval=100)\n",
    "plt.show()"
   ]
  },
  {
   "cell_type": "code",
   "execution_count": 33,
   "metadata": {
    "collapsed": true
   },
   "outputs": [],
   "source": [
    "##Example heat map\n",
    "fig2 = plt.figure()\n",
    "\n",
    "x = np.arange(-9, 10)\n",
    "y = np.arange(-9, 10).reshape(-1, 1)\n",
    "base = np.hypot(x, y)\n",
    "ims = []\n",
    "for add in np.arange(15):\n",
    "    ims.append((plt.pcolor(x, y, base + add, norm=plt.Normalize(0, 30)),))\n",
    "\n",
    "im_ani = animation.ArtistAnimation(fig2, ims, interval=50, repeat_delay=3000,\n",
    "                                   blit=True)\n",
    "plt.show()"
   ]
  }
 ],
 "metadata": {
  "kernelspec": {
   "display_name": "Python 2",
   "language": "python",
   "name": "python2"
  },
  "language_info": {
   "codemirror_mode": {
    "name": "ipython",
    "version": 2
   },
   "file_extension": ".py",
   "mimetype": "text/x-python",
   "name": "python",
   "nbconvert_exporter": "python",
   "pygments_lexer": "ipython2",
   "version": "2.7.11"
  }
 },
 "nbformat": 4,
 "nbformat_minor": 0
}
