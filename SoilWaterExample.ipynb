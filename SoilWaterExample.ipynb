{
 "cells": [
  {
   "cell_type": "code",
   "execution_count": 1,
   "metadata": {
    "collapsed": false
   },
   "outputs": [],
   "source": [
    "import plotly\n",
    "import plotly.plotly as py\n",
    "import plotly.tools as tls\n",
    "import plotly.graph_objs as pyg\n",
    "import numpy as np\n",
    "stream_ids = tls.get_credentials_file()['stream_ids']\n",
    "import sqlite3\n",
    "import pandas as pd"
   ]
  },
  {
   "cell_type": "code",
   "execution_count": 2,
   "metadata": {
    "collapsed": false
   },
   "outputs": [],
   "source": [
    "con = sqlite3.connect('C:\\ApsimX\\Prototypes\\MultiPoreWater/ReportDetail.db')"
   ]
  },
  {
   "cell_type": "code",
   "execution_count": 3,
   "metadata": {
    "collapsed": false
   },
   "outputs": [],
   "source": [
    "APSIMData = pd.read_sql(\"Select * from Report,Simulations where Report.SimulationID = Simulations.ID\",con, index_col = ['TimeStep'])\n",
    "APSIMData = APSIMData.drop(labels = ['SimulationID', 'ZoneName','ID'],axis=1)\n",
    "PoreWater = APSIMData.ix[:,[X for X in APSIMData.columns if 'PW' in X]]\n",
    "LayerNum = 7\n",
    "PoreComNum = 7\n",
    "LayerIndices = []\n",
    "for i in range(1,LayerNum +1):\n",
    "    LayerIndices.append('L'+str(i))\n",
    "CompartmentIndices = []\n",
    "for i in range(1,PoreComNum +1):\n",
    "    CompartmentIndices.append('C'+str(i))    \n",
    "PoreColumnIndex = pd.MultiIndex.from_product([LayerIndices,CompartmentIndices],names=['Layer','PoreComponent'])\n",
    "PoreWater.columns = PoreColumnIndex"
   ]
  },
  {
   "cell_type": "code",
   "execution_count": 4,
   "metadata": {
    "collapsed": false
   },
   "outputs": [],
   "source": [
    "Soil_TOKEN = py.get_credentials()['stream_ids'][0]\n",
    "WetMap = pyg.Surface(stream=pyg.Stream(token=Soil_TOKEN),x=[6,5,4,3,2,1,0],y=[0,1,2,3,4,5,6])\n",
    "plot_data = pyg.Data([WetMap])\n",
    "py.iplot(plot_data,filename = 'WEIRDO Graph')\n",
    "sSoil = py.Stream(Soil_TOKEN)"
   ]
  },
  {
   "cell_type": "code",
   "execution_count": 169,
   "metadata": {
    "collapsed": false
   },
   "outputs": [],
   "source": [
    "sSoil.open()\n",
    "sPond.open()\n",
    "n_frames = 1000\n",
    "for t in xrange(n_frames):\n",
    "    zNow = []\n",
    "    for i in range(1,1+PoreComNum):\n",
    "        zNow.append(list(PoreWater.ix[t+1,'L'+str(i)].values))\n",
    "    sSoil.write(dict(z=zNow, type='surface',zmax=1,zmin=0))\n",
    "    sPond.write({'x':OtherData.ix[t+1,'DateTime'],'y':OtherData.ix[t+1,'Pond']})\n",
    "    time.sleep(0.01)\n",
    "sSoil.close()\n",
    "sPond.close()"
   ]
  },
  {
   "cell_type": "code",
   "execution_count": 61,
   "metadata": {
    "collapsed": false,
    "scrolled": false
   },
   "outputs": [
    {
     "data": {
      "text/html": [
       "<iframe id=\"igraph\" scrolling=\"no\" style=\"border:none;\" seamless=\"seamless\" src=\"https://plot.ly/~HamishBrown/735.embed\" height=\"525\" width=\"100%\"></iframe>"
      ],
      "text/plain": [
       "<plotly.tools.PlotlyDisplay object>"
      ]
     },
     "execution_count": 61,
     "metadata": {},
     "output_type": "execute_result"
    }
   ],
   "source": [
    "tls.embed('https://plot.ly/~HamishBrown/735/weirdo/')"
   ]
  }
 ],
 "metadata": {
  "kernelspec": {
   "display_name": "Python 2",
   "language": "python",
   "name": "python2"
  },
  "language_info": {
   "codemirror_mode": {
    "name": "ipython",
    "version": 2
   },
   "file_extension": ".py",
   "mimetype": "text/x-python",
   "name": "python",
   "nbconvert_exporter": "python",
   "pygments_lexer": "ipython2",
   "version": "2.7.11"
  }
 },
 "nbformat": 4,
 "nbformat_minor": 0
}
