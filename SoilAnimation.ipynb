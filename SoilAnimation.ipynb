{
 "cells": [
  {
   "cell_type": "code",
   "execution_count": 223,
   "metadata": {
    "collapsed": false
   },
   "outputs": [],
   "source": [
    "import sqlite3\n",
    "import pandas as pd\n",
    "from mpl_toolkits.mplot3d import axes3d\n",
    "import numpy as np\n",
    "import matplotlib.pyplot as plt\n",
    "import matplotlib.animation as animation\n",
    "from matplotlib import cm\n",
    "from datetime import datetime\n",
    "from datetime import datetime, timedelta\n",
    "\n",
    "con = sqlite3.connect('C:\\ApsimX\\Prototypes\\MultiPoreWater/ReportDetail.db')\n",
    "APSIMData = pd.read_sql(\"Select * from Report,Simulations where Report.SimulationID = Simulations.ID\",con, index_col = ['TimeStep'])\n",
    "APSIMData = APSIMData.drop(labels = ['SimulationID', 'ZoneName','ID'],axis=1)\n",
    "PoreWater = APSIMData.ix[:,[X for X in APSIMData.columns if 'PW' in X]]\n",
    "ProfileData = pd.read_sql(\"Select * from Initial,Simulations where Initial.SimulationID = Simulations.ID\",con)\n",
    "Thickness = ProfileData.ix[:,[X for X in ProfileData.columns if 'Thick' in X]]\n",
    "Timing = APSIMData.ix[:,0:3]\n",
    "Timing.ix[:,'DateTime'] = [datetime.strptime(Timing.ix[X,0], '%Y-%m-%d %H:%M:%S') for X in Timing.index]\n",
    "Timing.ix[:,'Date0'] = [Timing.ix[X,'DateTime'] - timedelta(hours=12) for X in Timing.index]\n",
    "Timing.ix[:,'DateTime'] = [Timing.ix[X,'Date0'] + timedelta(hours=int(Timing.ix[X,'Hour'])) for X in Timing.index]\n",
    "Timing.ix[:,'Now'] = [datetime.strftime(Timing.ix[X,'DateTime'],'%Y-%m-%d %H:%M:%S') for X in Timing.index]\n",
    "\n",
    "Depth = []\n",
    "depth = 0\n",
    "for l in Thickness.columns:\n",
    "    Depth.append(depth)\n",
    "    depth += Thickness.ix[:,l][0]\n",
    "LayerNum = 7\n",
    "PoreComNum = 7\n",
    "\n",
    "LayerIndices = []\n",
    "for i in range(1,LayerNum +1):\n",
    "    LayerIndices.append('L'+str(i))\n",
    "    \n",
    "CompartmentIndices = []\n",
    "for i in range(1,PoreComNum +1):\n",
    "    CompartmentIndices.append('C'+str(i))    \n",
    "\n",
    "PoreColumnIndex = pd.MultiIndex.from_product([LayerIndices,CompartmentIndices],names=['Layer','PoreComponent'])\n",
    "PoreWater.columns = PoreColumnIndex\n",
    "\n",
    "def WetnessData(i):\n",
    "    Wetness = []\n",
    "    for l in range(1,LayerNum+1):\n",
    "        Wetness.append(list(PoreWater.ix[i+1,'L'+str(l)].values))\n",
    "    return np.array(Wetness)"
   ]
  },
  {
   "cell_type": "code",
   "execution_count": 222,
   "metadata": {
    "collapsed": false
   },
   "outputs": [],
   "source": [
    "fig = plt.figure()\n",
    "ax = axes3d.Axes3D(fig)\n",
    "\n",
    "pores = range(1,PoreComNum+1)\n",
    "layers = Depth\n",
    "Pores, Layers = np.meshgrid(pores, layers)\n",
    "Wetness = WetnessData(1)\n",
    "wframe = ax.plot_wireframe(Layers,Pores, Wetness)\n",
    "ax.set_zlim(0,1)\n",
    "\n",
    "def update(i, ax, fig):\n",
    "    ax.cla()\n",
    "    Wetness = WetnessData(i)\n",
    "    wframe = ax.plot_wireframe(Layers, Pores, Wetness)\n",
    "    ax.set_zlim(0,1)\n",
    "    ax.set_xlabel('Profile Depth (mm)')\n",
    "    ax.set_ylabel('L pores --> S pores')\n",
    "    ax.set_zlabel('Relative Water Content')\n",
    "    return wframe,\n",
    "\n",
    "ani = animation.FuncAnimation(fig, update, \n",
    "       frames=xrange(PoreWater.index.size), \n",
    "       fargs=(ax, fig), interval=0.001)\n",
    "plt.show()"
   ]
  },
  {
   "cell_type": "code",
   "execution_count": 224,
   "metadata": {
    "collapsed": false
   },
   "outputs": [],
   "source": [
    "fig = plt.figure()\n",
    "ax = fig.gca(projection='3d')\n",
    "\n",
    "pores = range(1,PoreComNum+1)\n",
    "layers = Depth\n",
    "Pores, Layers = np.meshgrid(pores, layers)\n",
    "Wetness = WetnessData(1)\n",
    "surface = ax.plot_surface(Layers, Pores, Wetness, cstride=1, rstride=1, cmap=cm.jet)\n",
    "ax.set_zlim3d(0.0, 1.0)\n",
    "\n",
    "def update(i, ax, fig):\n",
    "    ax.cla()\n",
    "    Wetness = WetnessData(i)\n",
    "    surface = ax.plot_surface(Layers, Pores, Wetness, cstride=1, rstride=1, cmap=cm.jet)\n",
    "    ax.set_zlim(0,1)\n",
    "    ax.set_xlabel('Profile Depth (mm)')\n",
    "    ax.set_ylabel('L pores --> S pores')\n",
    "    ax.set_zlabel('Relative Water Content')\n",
    "    ax.text(0,0,1.5,Timing.ix[i+1,'Now'])\n",
    "    return surface,\n",
    "\n",
    "ani = animation.FuncAnimation(fig, update, \n",
    "        frames=xrange(PoreWater.index.size), \n",
    "        fargs=(ax, fig), interval=0.001)\n",
    "plt.show()"
   ]
  }
 ],
 "metadata": {
  "kernelspec": {
   "display_name": "Python 2",
   "language": "python",
   "name": "python2"
  },
  "language_info": {
   "codemirror_mode": {
    "name": "ipython",
    "version": 2
   },
   "file_extension": ".py",
   "mimetype": "text/x-python",
   "name": "python",
   "nbconvert_exporter": "python",
   "pygments_lexer": "ipython2",
   "version": "2.7.11"
  }
 },
 "nbformat": 4,
 "nbformat_minor": 0
}
