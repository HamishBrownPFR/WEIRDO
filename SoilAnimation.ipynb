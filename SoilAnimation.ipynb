{
 "cells": [
  {
   "cell_type": "markdown",
   "metadata": {},
   "source": [
    "### St up necessary bits"
   ]
  },
  {
   "cell_type": "code",
   "execution_count": 1,
   "metadata": {
    "collapsed": true
   },
   "outputs": [],
   "source": [
    "import sqlite3\n",
    "import pandas as pd\n",
    "from mpl_toolkits.mplot3d import axes3d\n",
    "import numpy as np\n",
    "import matplotlib.pyplot as plt\n",
    "import matplotlib.animation as animation\n",
    "from matplotlib import cm\n",
    "from datetime import datetime\n",
    "from datetime import datetime, timedelta"
   ]
  },
  {
   "cell_type": "markdown",
   "metadata": {},
   "source": [
    "## Bring in the Data from APSIM and prepare for graphing"
   ]
  },
  {
   "cell_type": "code",
   "execution_count": 2,
   "metadata": {
    "collapsed": true
   },
   "outputs": [],
   "source": [
    "def WetnessData(i):\n",
    "    Wetness = []\n",
    "    for l in range(1,LayerNum+1):\n",
    "        Wetness.append(list(PoreWater.ix[i+1,'L'+str(l)].values))\n",
    "    return np.array(Wetness)"
   ]
  },
  {
   "cell_type": "code",
   "execution_count": 5,
   "metadata": {
    "collapsed": false
   },
   "outputs": [],
   "source": [
    "con = sqlite3.connect('C:\\ApsimX\\Prototypes\\MultiPoreWater/ReportDetail.db')\n",
    "APSIMData = pd.read_sql(\"Select * from Report,Simulations where Report.SimulationID = Simulations.ID\",con, index_col = ['TimeStep'])\n",
    "APSIMData = APSIMData.drop(labels = ['SimulationID', 'ZoneName','ID'],axis=1)\n",
    "PoreWater = APSIMData.ix[:,[X for X in APSIMData.columns if 'PW(' in X]]\n",
    "ProfileData = pd.read_sql(\"Select * from Initial,Simulations where Initial.SimulationID = Simulations.ID\",con)\n",
    "Thickness = ProfileData.ix[:,[X for X in ProfileData.columns if 'Thick' in X]]\n",
    "Timing = APSIMData.ix[:,0:3]\n",
    "Timing.ix[:,'DateTime'] = [datetime.strptime(Timing.ix[X,0], '%Y-%m-%d %H:%M:%S') for X in Timing.index]\n",
    "Timing.ix[:,'Date0'] = [Timing.ix[X,'DateTime'] - timedelta(hours=12) for X in Timing.index]\n",
    "Timing.ix[:,'DateTime'] = [Timing.ix[X,'Date0'] + timedelta(hours=int(Timing.ix[X,'Hour'])) for X in Timing.index]\n",
    "Timing.ix[:,'Now'] = [datetime.strftime(Timing.ix[X,'DateTime'],'%H:%M:%S %d-%b-%Y') for X in Timing.index]\n",
    "\n",
    "Depth = []\n",
    "depth = 0\n",
    "for l in Thickness.columns:\n",
    "    Depth.append(depth)\n",
    "    depth += Thickness.ix[:,l][0]\n",
    "\n",
    "LayerNum = np.size(Depth)\n",
    "PoreComNum = ProfileData.ix[:,[X for X in ProfileData.columns if 'RelWC(1)' in X]].size\n",
    "\n",
    "LayerIndices = []\n",
    "for i in range(1,LayerNum +1):\n",
    "    LayerIndices.append('L'+str(i))\n",
    "    \n",
    "CompartmentIndices = []\n",
    "for i in range(1,PoreComNum +1):\n",
    "    CompartmentIndices.append('C'+str(i))    \n",
    "\n",
    "PoreColumnIndex = pd.MultiIndex.from_product([LayerIndices,CompartmentIndices],names=['Layer','PoreComponent'])\n",
    "PoreWater.columns = PoreColumnIndex\n",
    "\n",
    "PoreAxis = pd.DataFrame(data= ProfileData.ix[:,[X for X in ProfileData.columns if 'Rel' in X]].values,\n",
    "                        columns = PoreColumnIndex)\n",
    "PoreBounds = []\n",
    "for l in range(1,LayerNum+1):\n",
    "    Bounds = list(1-PoreAxis.ix[0,'L'+str(l)].values)\n",
    "    Bounds.insert(0,0)\n",
    "    PoreBounds.append(Bounds)\n",
    "PoreX = np.array(PoreBounds)\n",
    "\n",
    "Layers =[]\n",
    "for d in Depth:\n",
    "    Layers.append([d] *(PoreComNum+1))\n",
    "LayersY = np.array(Layers)\n",
    "\n",
    "PoreTicks = pd.DataFrame(data= ProfileData.ix[:,[X for X in ProfileData.columns if 'Psi' in X]].values,\n",
    "                        columns = PoreColumnIndex)\n",
    "\n",
    "Xticks = PoreTicks.ix[0,'L'+str(LayerNum)]"
   ]
  },
  {
   "cell_type": "markdown",
   "metadata": {},
   "source": [
    "## Make an animated heat map of the water content in the soil"
   ]
  },
  {
   "cell_type": "code",
   "execution_count": 6,
   "metadata": {
    "collapsed": false
   },
   "outputs": [],
   "source": [
    "fig = plt.figure(figsize=(10,12))\n",
    "ax1=plt.subplot2grid((7,1),(0,0),rowspan=1,xticks=[],yticks=[])\n",
    "ax2=plt.subplot2grid((7,1),(2,0),rowspan=5,\n",
    "                     ylabel='Soil Depth (mm)',xlabel='Large --> Small pores')\n",
    "ax3=plt.subplot2grid((7,1),(1,0),rowspan=1,xticks=[],\n",
    "                    ylabel = 'Pond (mm)')\n",
    "\n",
    "ax2.invert_yaxis()\n",
    "ax2.tick_params(labelsize=15)\n",
    "ax2.xaxis.label.set_fontsize(30)\n",
    "ax2.yaxis.label.set_fontsize(30)\n",
    "\n",
    "pores = range(1,PoreComNum+1)\n",
    "layers = Depth\n",
    "Pores, Layers = np.meshgrid(pores, layers)\n",
    "\n",
    "ims = []\n",
    "for i in range(1000):\n",
    "    plt1 = ax1.text(0.1,0.5,Timing.ix[i+1,'Now'],fontsize=40)\n",
    "    #plt2 = ax2.pcolor(PoreX, LayersY, WetnessData(i), cmap=cm.jet_r, norm=plt.Normalize(0, 1))\n",
    "    plt2 = ax2.pcolor(WetnessData(i), cmap=cm.jet_r, norm=plt.Normalize(0, 1))\n",
    "    plt3 = ax3.scatter(x=range(150),y= APSIMData.ix[i+1:i+150,'Pond'])\n",
    "    ims.append([plt1,plt2,plt3])\n",
    "im_ani = animation.ArtistAnimation(fig, ims, interval=100, repeat_delay=1000,\n",
    "                                   blit=True)\n",
    "plt.show()"
   ]
  }
 ],
 "metadata": {
  "kernelspec": {
   "display_name": "Python 2",
   "language": "python",
   "name": "python2"
  },
  "language_info": {
   "codemirror_mode": {
    "name": "ipython",
    "version": 2
   },
   "file_extension": ".py",
   "mimetype": "text/x-python",
   "name": "python",
   "nbconvert_exporter": "python",
   "pygments_lexer": "ipython2",
   "version": "2.7.11"
  }
 },
 "nbformat": 4,
 "nbformat_minor": 0
}
